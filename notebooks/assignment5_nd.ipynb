{
 "cells": [
  {
   "cell_type": "markdown",
   "metadata": {},
   "source": [
    "# Assignment 5: CNN on Cultural Image Data"
   ]
  },
  {
   "cell_type": "markdown",
   "metadata": {},
   "source": [
    "__Multi-class classification of impressionist painters__\n",
    "\n",
    "So far in class, we've been working with 'toy' datasets - handwriting, cats, dogs, and so on. However, this course is on the application of computer vision and deep learning to cultural data. This week, your assignment is to use what you've learned so far to build a classifier which can predict artists from paintings.\n",
    "\n",
    "You can find the data for the assignment here: https://www.kaggle.com/delayedkarma/impressionist-classifier-data\n",
    "\n",
    "Using this data, you should build a deep learning model using convolutional neural networks which classify paintings by their respective artists. Why might we want to do this? Well, consider the scenario where we have found a new, never-before-seen painting which is claimed to be the artist Renoir. An accurate predictive model could be useful here for art historians and archivists!\n",
    "\n",
    "For this assignment, you can use the CNN code we looked at in class, such as the ShallowNet architecture or LeNet. You are also welcome to build your own model, if you dare - I recommend against doing this.\n",
    "\n",
    "Perhaps the most challenging aspect of this assignment will be to get all of the images into format that can be fed into the CNN model. All of the images are of different shapes and sizes, so the first task will be to resize the images to have them be a uniform (smaller) shape.\n",
    "\n",
    "You'll also need to think about how to get the images into an array for the model and how to extract 'labels' from filenames for use in the classification report\n",
    "\n",
    "__Tips__\n",
    "\n",
    "- You should save visualizations showing loss/accuracy of the model during training; you should also a save the output from the classification report.\n",
    "- I suggest working in groups for this assignment. The data is quite large and will take some time to move over to worker02. Similarly training the models will be time consuming, so it is preferably to have fewer models on the go.\n",
    "- You might want to consider a division of labour in your group. One person working on resizing images, one working on extracting labels, one developing the model, etc.\n",
    "- For reshaping images, I suggest checking out cv.resize() with the cv2.INTER_AREA method\n",
    "- If you have trouble doing this on your own machines, use worker02.\n",
    "- Don't worry if the results aren't great! This is a complex dataset we're working with.\n",
    "\n",
    "__General instructions__\n",
    "\n",
    "- Save your script as cnn-artists.py\n",
    "- If you have external dependencies, you must include a requirements.txt\n",
    "- You can either upload the script here or push to GitHub and include a link - or both!\n",
    "- Your code should be clearly documented in a way that allows others to easily follow along\n",
    "- Similarly, remember to use descriptive variable names! A name like X_train is (just) more readable than x1.\n",
    "- The filenames of the saved images should clearly relate to the original image\n",
    "\n",
    "__Purpose__\n",
    "\n",
    "This assignment is designed to test that you have a understanding of:\n",
    "- how to build and train deep convolutional neural networks;\n",
    "- how to preprocess and prepare image data for use in these models;\n",
    "- how to work with complex, cultural image data, rather than toy datasets"
   ]
  },
  {
   "cell_type": "markdown",
   "metadata": {},
   "source": [
    "---"
   ]
  },
  {
   "cell_type": "code",
   "execution_count": 1,
   "metadata": {},
   "outputs": [],
   "source": [
    "# data tools\n",
    "import os\n",
    "import numpy as np\n",
    "import matplotlib.pyplot as plt\n",
    "import cv2\n",
    "from tqdm import tqdm\n",
    "\n",
    "# sklearn tools\n",
    "from sklearn.preprocessing import LabelBinarizer\n",
    "from sklearn.metrics import classification_report\n",
    "\n",
    "# tf tools\n",
    "from tensorflow.keras.datasets import cifar10\n",
    "from tensorflow.keras.models import Sequential\n",
    "from tensorflow.keras.layers import (Conv2D, \n",
    "                                     MaxPooling2D, \n",
    "                                     Activation, \n",
    "                                     Flatten, \n",
    "                                     Dense)\n",
    "from tensorflow.keras.utils import plot_model\n",
    "from tensorflow.keras.optimizers import SGD \n",
    "from tensorflow.keras import backend as K"
   ]
  },
  {
   "cell_type": "code",
   "execution_count": 3,
   "metadata": {},
   "outputs": [],
   "source": [
    "import glob"
   ]
  },
  {
   "cell_type": "code",
   "execution_count": 48,
   "metadata": {},
   "outputs": [],
   "source": [
    "def plot_history(H, epochs):\n",
    "    # H: history of the model, epochs\n",
    "    # visualize performance\n",
    "    plt.style.use(\"fivethirtyeight\")\n",
    "    plt.figure()\n",
    "    plt.plot(np.arange(0, epochs), H.history[\"loss\"], label=\"train_loss\")\n",
    "    plt.plot(np.arange(0, epochs), H.history[\"val_loss\"], label=\"val_loss\")\n",
    "    plt.plot(np.arange(0, epochs), H.history[\"accuracy\"], label=\"train_acc\")\n",
    "    plt.plot(np.arange(0, epochs), H.history[\"val_accuracy\"], label=\"val_acc\")\n",
    "    plt.title(\"Training Loss and Accuracy\")\n",
    "    plt.xlabel(\"Epoch #\")\n",
    "    plt.ylabel(\"Loss/Accuracy\")\n",
    "    plt.legend()\n",
    "    plt.tight_layout()\n",
    "    plt.show()"
   ]
  },
  {
   "cell_type": "markdown",
   "metadata": {},
   "source": [
    "### Importing Training Data"
   ]
  },
  {
   "cell_type": "code",
   "execution_count": 33,
   "metadata": {},
   "outputs": [
    {
     "name": "stderr",
     "output_type": "stream",
     "text": [
      "100%|██████████| 20/20 [00:00<00:00, 31.53it/s]\n",
      "100%|██████████| 20/20 [00:00<00:00, 23.14it/s]\n",
      "100%|██████████| 20/20 [00:00<00:00, 24.39it/s]\n",
      "100%|██████████| 20/20 [00:01<00:00, 14.58it/s]\n",
      "100%|██████████| 20/20 [00:01<00:00, 13.51it/s]\n",
      "100%|██████████| 20/20 [00:01<00:00, 10.23it/s]\n",
      "100%|██████████| 20/20 [00:01<00:00, 10.86it/s]\n",
      "100%|██████████| 20/20 [00:02<00:00,  9.45it/s]\n",
      "100%|██████████| 20/20 [00:02<00:00,  8.92it/s]\n",
      "100%|██████████| 20/20 [00:02<00:00,  6.89it/s]\n"
     ]
    }
   ],
   "source": [
    "trainX = np.empty((0,260,260,3))\n",
    "trainY = []\n",
    "\n",
    "labelNames = [\"Cezanne\", \"Degas\", \"Gauguin\", \n",
    "              \"Hassam\", \"Matisse\", \"Monet\", \"Pissarro\", \"Renoir\", \n",
    "              \"Sargent\", \"VanGogh\"]\n",
    "\n",
    "test_labels = [\"Cezanne\", \"Degas\"]\n",
    "\n",
    "train_dir = os.path.join(\"..\", \"data\", \"impressionist\", \"training\")\n",
    "\n",
    "for name in labelNames:\n",
    "    images = glob.glob(os.path.join(train_dir, name, \"*.jpg\"))\n",
    "    \n",
    "    for image in tqdm(images):\n",
    "        # Load image\n",
    "        loaded_img = cv2.imread(image)\n",
    "        # Resize image\n",
    "        resized_img = cv2.resize(loaded_img, (260, 260), interpolation = cv2.INTER_AREA)\n",
    "        #Create array\n",
    "        image_array = np.array([np.array(resized_img)])\n",
    "        trainX = np.vstack((trainX, image_array))\n",
    "        trainY.append(name)"
   ]
  },
  {
   "cell_type": "code",
   "execution_count": 34,
   "metadata": {},
   "outputs": [
    {
     "data": {
      "text/plain": [
       "(200, 260, 260, 3)"
      ]
     },
     "execution_count": 34,
     "metadata": {},
     "output_type": "execute_result"
    }
   ],
   "source": [
    "trainX.shape"
   ]
  },
  {
   "cell_type": "markdown",
   "metadata": {},
   "source": [
    "### Importing Test Data"
   ]
  },
  {
   "cell_type": "code",
   "execution_count": 38,
   "metadata": {},
   "outputs": [],
   "source": [
    "testX = np.empty((0,260,260,3))\n",
    "testY = []\n",
    "\n",
    "labelNames = [\"Cezanne\", \"Degas\", \"Gauguin\", \n",
    "              \"Hassam\", \"Matisse\", \"Monet\", \"Pissarro\", \"Renoir\", \n",
    "              \"Sargent\", \"VanGogh\"]\n",
    "\n",
    "test_dir = os.path.join(\"..\", \"data\", \"impressionist\", \"validation\")\n",
    "\n",
    "for name in labelNames:\n",
    "    images = glob.glob(os.path.join(test_dir, name, \"*.jpg\"))\n",
    "    \n",
    "    for image in images:\n",
    "        # Load image\n",
    "        loaded_img = cv2.imread(image)\n",
    "        # Resize image\n",
    "        resized_img = cv2.resize(loaded_img, (260, 260), interpolation = cv2.INTER_AREA)\n",
    "        #Create array\n",
    "        image_array = np.array([np.array(resized_img)])\n",
    "        # Append\n",
    "        testX = np.vstack((testX, image_array))\n",
    "        testY.append(name)"
   ]
  },
  {
   "cell_type": "code",
   "execution_count": 39,
   "metadata": {},
   "outputs": [
    {
     "data": {
      "text/plain": [
       "(100, 260, 260, 3)"
      ]
     },
     "execution_count": 39,
     "metadata": {},
     "output_type": "execute_result"
    }
   ],
   "source": [
    "testX.shape"
   ]
  },
  {
   "cell_type": "code",
   "execution_count": 54,
   "metadata": {},
   "outputs": [
    {
     "data": {
      "text/plain": [
       "100"
      ]
     },
     "execution_count": 54,
     "metadata": {},
     "output_type": "execute_result"
    }
   ],
   "source": []
  },
  {
   "cell_type": "markdown",
   "metadata": {},
   "source": [
    "### Normalizing"
   ]
  },
  {
   "cell_type": "code",
   "execution_count": 40,
   "metadata": {},
   "outputs": [],
   "source": [
    "trainX = trainX.astype(\"float\") / 255.\n",
    "testX = testX.astype(\"float\") / 255."
   ]
  },
  {
   "cell_type": "markdown",
   "metadata": {},
   "source": [
    "### Binarizing Labels"
   ]
  },
  {
   "cell_type": "code",
   "execution_count": 41,
   "metadata": {},
   "outputs": [],
   "source": [
    "lb = LabelBinarizer()\n",
    "trainY = lb.fit_transform(trainY)"
   ]
  },
  {
   "cell_type": "code",
   "execution_count": 42,
   "metadata": {},
   "outputs": [],
   "source": [
    "lb = LabelBinarizer()\n",
    "testY = lb.fit_transform(testY)"
   ]
  },
  {
   "cell_type": "markdown",
   "metadata": {},
   "source": [
    "### Defining Model"
   ]
  },
  {
   "cell_type": "code",
   "execution_count": 43,
   "metadata": {},
   "outputs": [],
   "source": [
    "# define model\n",
    "model = Sequential()\n",
    "\n",
    "# first set of CONV => RELU => POOL\n",
    "model.add(Conv2D(32, (3, 3), \n",
    "                 padding=\"same\", \n",
    "                 input_shape=(260, 260, 3)))\n",
    "model.add(Activation(\"relu\"))\n",
    "model.add(MaxPooling2D(pool_size=(2, 2), \n",
    "                       strides=(2, 2)))\n",
    "\n",
    "# second set of CONV => RELU => POOL\n",
    "model.add(Conv2D(50, (5, 5), \n",
    "                 padding=\"same\"))\n",
    "model.add(Activation(\"relu\"))\n",
    "model.add(MaxPooling2D(pool_size=(2, 2), \n",
    "                       strides=(2, 2)))\n",
    "\n",
    "# FC => RELU\n",
    "model.add(Flatten())\n",
    "model.add(Dense(500))\n",
    "model.add(Activation(\"relu\"))\n",
    "\n",
    "# softmax classifier\n",
    "model.add(Dense(10))\n",
    "model.add(Activation(\"softmax\"))"
   ]
  },
  {
   "cell_type": "code",
   "execution_count": 44,
   "metadata": {},
   "outputs": [],
   "source": [
    "opt = SGD(lr=0.01)\n",
    "model.compile(loss=\"categorical_crossentropy\",\n",
    "              optimizer=opt,\n",
    "              metrics=[\"accuracy\"])"
   ]
  },
  {
   "cell_type": "code",
   "execution_count": 45,
   "metadata": {},
   "outputs": [
    {
     "name": "stdout",
     "output_type": "stream",
     "text": [
      "Model: \"sequential\"\n",
      "_________________________________________________________________\n",
      "Layer (type)                 Output Shape              Param #   \n",
      "=================================================================\n",
      "conv2d (Conv2D)              (None, 260, 260, 32)      896       \n",
      "_________________________________________________________________\n",
      "activation (Activation)      (None, 260, 260, 32)      0         \n",
      "_________________________________________________________________\n",
      "max_pooling2d (MaxPooling2D) (None, 130, 130, 32)      0         \n",
      "_________________________________________________________________\n",
      "conv2d_1 (Conv2D)            (None, 130, 130, 50)      40050     \n",
      "_________________________________________________________________\n",
      "activation_1 (Activation)    (None, 130, 130, 50)      0         \n",
      "_________________________________________________________________\n",
      "max_pooling2d_1 (MaxPooling2 (None, 65, 65, 50)        0         \n",
      "_________________________________________________________________\n",
      "flatten (Flatten)            (None, 211250)            0         \n",
      "_________________________________________________________________\n",
      "dense (Dense)                (None, 500)               105625500 \n",
      "_________________________________________________________________\n",
      "activation_2 (Activation)    (None, 500)               0         \n",
      "_________________________________________________________________\n",
      "dense_1 (Dense)              (None, 10)                5010      \n",
      "_________________________________________________________________\n",
      "activation_3 (Activation)    (None, 10)                0         \n",
      "=================================================================\n",
      "Total params: 105,671,456\n",
      "Trainable params: 105,671,456\n",
      "Non-trainable params: 0\n",
      "_________________________________________________________________\n"
     ]
    }
   ],
   "source": [
    "model.summary()"
   ]
  },
  {
   "cell_type": "code",
   "execution_count": 46,
   "metadata": {},
   "outputs": [
    {
     "name": "stdout",
     "output_type": "stream",
     "text": [
      "Epoch 1/10\n",
      "40/40 [==============================] - 39s 971ms/step - loss: 2.3995 - accuracy: 0.1324 - val_loss: 2.2936 - val_accuracy: 0.1800\n",
      "Epoch 2/10\n",
      "40/40 [==============================] - 38s 943ms/step - loss: 2.2611 - accuracy: 0.2700 - val_loss: 2.2778 - val_accuracy: 0.1400\n",
      "Epoch 3/10\n",
      "40/40 [==============================] - 36s 913ms/step - loss: 2.2031 - accuracy: 0.1968 - val_loss: 2.1721 - val_accuracy: 0.1900\n",
      "Epoch 4/10\n",
      "40/40 [==============================] - 37s 930ms/step - loss: 2.0853 - accuracy: 0.2183 - val_loss: 2.1455 - val_accuracy: 0.2500\n",
      "Epoch 5/10\n",
      "40/40 [==============================] - 35s 885ms/step - loss: 1.9205 - accuracy: 0.3864 - val_loss: 2.1261 - val_accuracy: 0.2600\n",
      "Epoch 6/10\n",
      "40/40 [==============================] - 37s 935ms/step - loss: 1.7420 - accuracy: 0.3951 - val_loss: 2.1685 - val_accuracy: 0.2600\n",
      "Epoch 7/10\n",
      "40/40 [==============================] - 37s 922ms/step - loss: 1.5926 - accuracy: 0.4754 - val_loss: 2.5917 - val_accuracy: 0.1700\n",
      "Epoch 8/10\n",
      "40/40 [==============================] - 37s 920ms/step - loss: 1.4010 - accuracy: 0.5113 - val_loss: 2.2587 - val_accuracy: 0.2400\n",
      "Epoch 9/10\n",
      "40/40 [==============================] - 35s 886ms/step - loss: 1.2786 - accuracy: 0.5798 - val_loss: 2.4696 - val_accuracy: 0.2400\n",
      "Epoch 10/10\n",
      "40/40 [==============================] - 36s 910ms/step - loss: 0.6989 - accuracy: 0.8150 - val_loss: 2.6189 - val_accuracy: 0.1900\n"
     ]
    }
   ],
   "source": [
    "H = model.fit(trainX, trainY, \n",
    "              validation_data=(testX, testY), \n",
    "              batch_size=5,\n",
    "              epochs=10,\n",
    "              verbose=1)"
   ]
  },
  {
   "cell_type": "code",
   "execution_count": 49,
   "metadata": {},
   "outputs": [
    {
     "data": {
      "image/png": "[encoded data removed]",
      "text/plain": [
       "<Figure size 432x288 with 1 Axes>"
      ]
     },
     "metadata": {},
     "output_type": "display_data"
    }
   ],
   "source": [
    "plot_history(H,10)"
   ]
  },
  {
   "cell_type": "markdown",
   "metadata": {},
   "source": [
    "### Predictions"
   ]
  },
  {
   "cell_type": "code",
   "execution_count": 56,
   "metadata": {},
   "outputs": [
    {
     "name": "stdout",
     "output_type": "stream",
     "text": [
      "              precision    recall  f1-score   support\n",
      "\n",
      "     Cezanne       0.00      0.00      0.00        10\n",
      "       Degas       0.57      0.40      0.47        10\n",
      "     Gauguin       0.36      0.50      0.42        10\n",
      "      Hassam       0.00      0.00      0.00        10\n",
      "     Matisse       0.00      0.00      0.00        10\n",
      "       Monet       0.13      0.80      0.23        10\n",
      "    Pissarro       0.00      0.00      0.00        10\n",
      "      Renoir       0.07      0.10      0.08        10\n",
      "     Sargent       1.00      0.10      0.18        10\n",
      "     VanGogh       0.00      0.00      0.00        10\n",
      "\n",
      "    accuracy                           0.19       100\n",
      "   macro avg       0.21      0.19      0.14       100\n",
      "weighted avg       0.21      0.19      0.14       100\n",
      "\n"
     ]
    },
    {
     "name": "stderr",
     "output_type": "stream",
     "text": [
      "/work/meme/cds-visual/cv101/lib/python3.7/site-packages/sklearn/metrics/_classification.py:1245: UndefinedMetricWarning: Precision and F-score are ill-defined and being set to 0.0 in labels with no predicted samples. Use `zero_division` parameter to control this behavior.\n",
      "  _warn_prf(average, modifier, msg_start, len(result))\n",
      "/work/meme/cds-visual/cv101/lib/python3.7/site-packages/sklearn/metrics/_classification.py:1245: UndefinedMetricWarning: Precision and F-score are ill-defined and being set to 0.0 in labels with no predicted samples. Use `zero_division` parameter to control this behavior.\n",
      "  _warn_prf(average, modifier, msg_start, len(result))\n",
      "/work/meme/cds-visual/cv101/lib/python3.7/site-packages/sklearn/metrics/_classification.py:1245: UndefinedMetricWarning: Precision and F-score are ill-defined and being set to 0.0 in labels with no predicted samples. Use `zero_division` parameter to control this behavior.\n",
      "  _warn_prf(average, modifier, msg_start, len(result))\n"
     ]
    }
   ],
   "source": [
    "predictions = model.predict(testX)\n",
    "print(classification_report(testY.argmax(axis=1),\n",
    "                            predictions.argmax(axis=1),\n",
    "                            target_names=labelNames))"
   ]
  },
  {
   "cell_type": "code",
   "execution_count": null,
   "metadata": {},
   "outputs": [],
   "source": []
  }
 ],
 "metadata": {
  "kernelspec": {
   "display_name": "cv101",
   "language": "python",
   "name": "cv101"
  },
  "language_info": {
   "codemirror_mode": {
    "name": "ipython",
    "version": 3
   },
   "file_extension": ".py",
   "mimetype": "text/x-python",
   "name": "python",
   "nbconvert_exporter": "python",
   "pygments_lexer": "ipython3",
   "version": "3.7.8"
  }
 },
 "nbformat": 4,
 "nbformat_minor": 4
}
