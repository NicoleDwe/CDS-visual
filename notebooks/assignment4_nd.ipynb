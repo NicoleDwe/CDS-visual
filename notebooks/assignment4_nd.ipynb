{
 "cells": [
  {
   "cell_type": "code",
   "execution_count": 1,
   "metadata": {},
   "outputs": [],
   "source": [
    "# import dependencies\n",
    "import os \n",
    "import sys\n",
    "import numpy as np\n",
    "sys.path.append(os.path.join(\"..\"))\n",
    "import argparse\n",
    "from utils.neuralnetwork import NeuralNetwork\n",
    "from sklearn.datasets import fetch_openml\n",
    "from sklearn.preprocessing import LabelBinarizer\n",
    "from sklearn.model_selection import train_test_split\n",
    "from sklearn.metrics import classification_report\n",
    "from sklearn import datasets"
   ]
  },
  {
   "cell_type": "code",
   "execution_count": 62,
   "metadata": {},
   "outputs": [
    {
     "ename": "NameError",
     "evalue": "name 'fetch_mnist' is not defined",
     "output_type": "error",
     "traceback": [
      "\u001b[0;31m---------------------------------------------------------------------------\u001b[0m",
      "\u001b[0;31mNameError\u001b[0m                                 Traceback (most recent call last)",
      "\u001b[0;32m<ipython-input-62-e993b076c5df>\u001b[0m in \u001b[0;36m<module>\u001b[0;34m\u001b[0m\n\u001b[0;32m----> 1\u001b[0;31m \u001b[0mdata\u001b[0m \u001b[0;34m=\u001b[0m \u001b[0mfetch_mnist\u001b[0m\u001b[0;34m(\u001b[0m\u001b[0;34m)\u001b[0m\u001b[0;34m\u001b[0m\u001b[0;34m\u001b[0m\u001b[0m\n\u001b[0m",
      "\u001b[0;31mNameError\u001b[0m: name 'fetch_mnist' is not defined"
     ]
    }
   ],
   "source": []
  },
  {
   "cell_type": "code",
   "execution_count": 64,
   "metadata": {},
   "outputs": [],
   "source": [
    "# load data\n",
    "X, y = fetch_openml('mnist_784', version=1, return_X_y=True)"
   ]
  },
  {
   "cell_type": "code",
   "execution_count": 65,
   "metadata": {},
   "outputs": [],
   "source": [
    "X = np.array(X)\n",
    "y = np.array(y)"
   ]
  },
  {
   "cell_type": "code",
   "execution_count": 66,
   "metadata": {},
   "outputs": [],
   "source": [
    "# turn into float\n",
    "X = X.astype(\"float\")"
   ]
  },
  {
   "cell_type": "code",
   "execution_count": 67,
   "metadata": {},
   "outputs": [],
   "source": [
    "# regularisation\n",
    "X = (X - X.min())/(X.max() - X.min())"
   ]
  },
  {
   "cell_type": "code",
   "execution_count": 68,
   "metadata": {},
   "outputs": [],
   "source": [
    "# split data\n",
    "X_train, X_test, y_train, y_test = train_test_split(X, y, random_state=9, train_size=0.8, test_size=0.2)"
   ]
  },
  {
   "cell_type": "code",
   "execution_count": 69,
   "metadata": {},
   "outputs": [],
   "source": [
    "# binarise labels\n",
    "y_train_binary = LabelBinarizer().fit_transform(y_train)\n",
    "y_test_binary = LabelBinarizer().fit_transform(y_test)"
   ]
  },
  {
   "cell_type": "code",
   "execution_count": 70,
   "metadata": {},
   "outputs": [
    {
     "name": "stdout",
     "output_type": "stream",
     "text": [
      "[INFO] NeuralNetwork: 784-32-16-10\n"
     ]
    }
   ],
   "source": [
    "nn = NeuralNetwork([X_train.shape[1], 32, 16, 10])\n",
    "print(f\"[INFO] {nn}\")"
   ]
  },
  {
   "cell_type": "code",
   "execution_count": 71,
   "metadata": {},
   "outputs": [
    {
     "name": "stdout",
     "output_type": "stream",
     "text": [
      "[INFO] NeuralNetwork: 784-32-16-10\n",
      "[INFO] epoch=1, loss=2974.2734178\n"
     ]
    }
   ],
   "source": [
    "print(f\"[INFO] {nn}\")\n",
    "nn.fit(X_train, y_train_binary, epochs=5)"
   ]
  },
  {
   "cell_type": "code",
   "execution_count": 72,
   "metadata": {},
   "outputs": [
    {
     "data": {
      "text/plain": [
       "array([[8.87456165e-08, 9.81991141e-01, 3.19048916e-03, ...,\n",
       "        1.67050997e-03, 5.04439236e-03, 1.14577162e-03],\n",
       "       [7.38631060e-03, 1.48431027e-05, 7.86469859e-05, ...,\n",
       "        1.51117457e-04, 2.36406815e-03, 7.55903470e-06],\n",
       "       [6.91953468e-06, 1.05096795e-01, 2.09774669e-05, ...,\n",
       "        1.29064393e-03, 2.30863178e-03, 9.55065006e-01],\n",
       "       ...,\n",
       "       [1.26492447e-07, 9.80336107e-01, 3.58166867e-03, ...,\n",
       "        1.76505375e-02, 1.64905341e-03, 8.76209243e-04],\n",
       "       [6.00927136e-04, 5.24484569e-04, 2.69481313e-03, ...,\n",
       "        2.56005374e-03, 8.83049590e-03, 7.44240306e-03],\n",
       "       [1.26930210e-04, 1.23095552e-03, 1.78518352e-05, ...,\n",
       "        6.04650370e-03, 7.97874266e-04, 2.17107491e-01]])"
      ]
     },
     "execution_count": 72,
     "metadata": {},
     "output_type": "execute_result"
    }
   ],
   "source": [
    "predictions = nn.predict(X_test)\n",
    "predictions"
   ]
  },
  {
   "cell_type": "code",
   "execution_count": 73,
   "metadata": {},
   "outputs": [
    {
     "data": {
      "text/plain": [
       "array([1, 5, 9, ..., 1, 4, 4])"
      ]
     },
     "execution_count": 73,
     "metadata": {},
     "output_type": "execute_result"
    }
   ],
   "source": [
    "predictions = predictions.argmax(axis=1)\n",
    "predictions"
   ]
  },
  {
   "cell_type": "code",
   "execution_count": 74,
   "metadata": {},
   "outputs": [
    {
     "name": "stdout",
     "output_type": "stream",
     "text": [
      "              precision    recall  f1-score   support\n",
      "\n",
      "           0       0.96      0.98      0.97      1383\n",
      "           1       0.98      0.98      0.98      1569\n",
      "           2       0.94      0.97      0.95      1357\n",
      "           3       0.95      0.93      0.94      1467\n",
      "           4       0.94      0.96      0.95      1362\n",
      "           5       0.97      0.92      0.94      1247\n",
      "           6       0.96      0.98      0.97      1407\n",
      "           7       0.94      0.96      0.95      1382\n",
      "           8       0.96      0.94      0.95      1375\n",
      "           9       0.94      0.93      0.94      1451\n",
      "\n",
      "    accuracy                           0.96     14000\n",
      "   macro avg       0.96      0.95      0.96     14000\n",
      "weighted avg       0.96      0.96      0.96     14000\n",
      "\n"
     ]
    }
   ],
   "source": [
    "print(classification_report(y_test_binary.argmax(axis=1), predictions))"
   ]
  },
  {
   "cell_type": "code",
   "execution_count": null,
   "metadata": {},
   "outputs": [],
   "source": []
  }
 ],
 "metadata": {
  "kernelspec": {
   "display_name": "cv101",
   "language": "python",
   "name": "cv101"
  },
  "language_info": {
   "codemirror_mode": {
    "name": "ipython",
    "version": 3
   },
   "file_extension": ".py",
   "mimetype": "text/x-python",
   "name": "python",
   "nbconvert_exporter": "python",
   "pygments_lexer": "ipython3",
   "version": "3.7.8"
  }
 },
 "nbformat": 4,
 "nbformat_minor": 4
}
