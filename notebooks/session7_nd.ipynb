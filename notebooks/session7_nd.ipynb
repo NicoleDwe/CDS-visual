{
 "cells": [
  {
   "cell_type": "markdown",
   "metadata": {},
   "source": [
    "## Import libraries"
   ]
  },
  {
   "cell_type": "code",
   "execution_count": 2,
   "metadata": {},
   "outputs": [],
   "source": [
    "import sys,os\n",
    "sys.path.append(os.path.join(\"..\"))\n",
    "import argparse\n",
    "from utils.neuralnetwork import NeuralNetwork\n",
    "from sklearn.preprocessing import LabelBinarizer\n",
    "from sklearn.model_selection import train_test_split\n",
    "from sklearn.metrics import classification_report\n",
    "from sklearn import datasets"
   ]
  },
  {
   "cell_type": "markdown",
   "metadata": {},
   "source": [
    "## Load sample data"
   ]
  },
  {
   "cell_type": "code",
   "execution_count": 3,
   "metadata": {},
   "outputs": [],
   "source": [
    "digits = datasets.load_digits()"
   ]
  },
  {
   "cell_type": "markdown",
   "metadata": {},
   "source": [
    "__Some preprocessing__\n",
    "\n",
    "We need to make sure the data is floats rather than ints."
   ]
  },
  {
   "cell_type": "code",
   "execution_count": 6,
   "metadata": {},
   "outputs": [],
   "source": [
    "# Convert to floats\n",
    "data = digits.data.astype(\"float\")"
   ]
  },
  {
   "cell_type": "code",
   "execution_count": 4,
   "metadata": {},
   "outputs": [
    {
     "data": {
      "text/plain": [
       "numpy.ndarray"
      ]
     },
     "execution_count": 4,
     "metadata": {},
     "output_type": "execute_result"
    }
   ],
   "source": [
    "type(digits.data)"
   ]
  },
  {
   "cell_type": "markdown",
   "metadata": {},
   "source": [
    "__Remember min-max regularization?__\n",
    "\n",
    "This is instead of dividing everything by 255. It's a bit of a smarter way to normalize.\n",
    "\n",
    "What happens if you try the other way?"
   ]
  },
  {
   "cell_type": "code",
   "execution_count": 7,
   "metadata": {},
   "outputs": [],
   "source": [
    "# MinMax regularization\n",
    "data = (data - data.min())/(data.max() - data.min())"
   ]
  },
  {
   "cell_type": "code",
   "execution_count": 8,
   "metadata": {},
   "outputs": [
    {
     "name": "stdout",
     "output_type": "stream",
     "text": [
      "[INFO] samples: 1797, dim: 64\n"
     ]
    }
   ],
   "source": [
    "# Print dimensions\n",
    "print(f\"[INFO] samples: {data.shape[0]}, dim: {data.shape[1]}\")"
   ]
  },
  {
   "cell_type": "markdown",
   "metadata": {},
   "source": [
    "## Split data"
   ]
  },
  {
   "cell_type": "code",
   "execution_count": 9,
   "metadata": {},
   "outputs": [],
   "source": [
    "# split data\n",
    "X_train, X_test, y_train, y_test = train_test_split(data, \n",
    "                                                  digits.target, \n",
    "                                                  test_size=0.2)"
   ]
  },
  {
   "cell_type": "markdown",
   "metadata": {},
   "source": [
    "We're converting labels to binary representations.\n",
    "\n",
    "Why am I doing this? Why don't I do it with LogisticRegression() for example?"
   ]
  },
  {
   "cell_type": "code",
   "execution_count": 10,
   "metadata": {},
   "outputs": [],
   "source": [
    "# convert labels from integers to vectors\n",
    "y_train = LabelBinarizer().fit_transform(y_train)\n",
    "y_test = LabelBinarizer().fit_transform(y_test)"
   ]
  },
  {
   "cell_type": "markdown",
   "metadata": {},
   "source": [
    "## Training the network!"
   ]
  },
  {
   "cell_type": "code",
   "execution_count": 13,
   "metadata": {},
   "outputs": [
    {
     "name": "stdout",
     "output_type": "stream",
     "text": [
      "[INFO] training network...\n"
     ]
    }
   ],
   "source": [
    "# train network\n",
    "print(\"[INFO] training network...\")\n",
    "nn = NeuralNetwork([X_train.shape[1], 32, 16, 10])"
   ]
  },
  {
   "cell_type": "code",
   "execution_count": 14,
   "metadata": {},
   "outputs": [
    {
     "name": "stdout",
     "output_type": "stream",
     "text": [
      "[INFO] NeuralNetwork: 64-32-16-10\n",
      "[INFO] epoch=1, loss=646.0815971\n",
      "[INFO] epoch=100, loss=7.8548351\n",
      "[INFO] epoch=200, loss=3.6174846\n",
      "[INFO] epoch=300, loss=2.5951437\n",
      "[INFO] epoch=400, loss=1.9606206\n",
      "[INFO] epoch=500, loss=1.7904075\n",
      "[INFO] epoch=600, loss=1.7207656\n",
      "[INFO] epoch=700, loss=1.6779535\n",
      "[INFO] epoch=800, loss=1.6487378\n",
      "[INFO] epoch=900, loss=1.6275141\n",
      "[INFO] epoch=1000, loss=1.6114044\n"
     ]
    }
   ],
   "source": [
    "print(f\"[INFO] {nn}\")\n",
    "nn.fit(X_train, y_train, epochs=1000) # going through the network 1000 times, always using the error to learn"
   ]
  },
  {
   "cell_type": "markdown",
   "metadata": {},
   "source": [
    "## Evaluating the network"
   ]
  },
  {
   "cell_type": "code",
   "execution_count": 12,
   "metadata": {},
   "outputs": [
    {
     "name": "stdout",
     "output_type": "stream",
     "text": [
      "['[INFO] evaluating network...']\n",
      "              precision    recall  f1-score   support\n",
      "\n",
      "           0       1.00      1.00      1.00        33\n",
      "           1       0.89      1.00      0.94        42\n",
      "           2       1.00      1.00      1.00        28\n",
      "           3       1.00      0.94      0.97        36\n",
      "           4       0.97      0.97      0.97        36\n",
      "           5       0.96      0.94      0.95        48\n",
      "           6       1.00      1.00      1.00        34\n",
      "           7       1.00      0.94      0.97        33\n",
      "           8       0.86      0.89      0.88        36\n",
      "           9       0.97      0.94      0.96        34\n",
      "\n",
      "    accuracy                           0.96       360\n",
      "   macro avg       0.97      0.96      0.96       360\n",
      "weighted avg       0.96      0.96      0.96       360\n",
      "\n"
     ]
    }
   ],
   "source": [
    "# evaluate network\n",
    "print([\"[INFO] evaluating network...\"])\n",
    "predictions = nn.predict(X_test)\n",
    "predictions = predictions.argmax(axis=1)\n",
    "print(classification_report(y_test.argmax(axis=1), predictions))"
   ]
  },
  {
   "cell_type": "code",
   "execution_count": null,
   "metadata": {},
   "outputs": [],
   "source": []
  }
 ],
 "metadata": {
  "kernelspec": {
   "display_name": "Python 3",
   "language": "python",
   "name": "python3"
  },
  "language_info": {
   "codemirror_mode": {
    "name": "ipython",
    "version": 3
   },
   "file_extension": ".py",
   "mimetype": "text/x-python",
   "name": "python",
   "nbconvert_exporter": "python",
   "pygments_lexer": "ipython3",
   "version": "3.7.8"
  }
 },
 "nbformat": 4,
 "nbformat_minor": 4
}
