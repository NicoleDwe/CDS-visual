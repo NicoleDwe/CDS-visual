{
 "cells": [
  {
   "cell_type": "markdown",
   "metadata": {},
   "source": [
    "# Assignment 1: Basic Image Processing"
   ]
  },
  {
   "cell_type": "markdown",
   "metadata": {},
   "source": [
    "Nicole Dwenger - 2021/02/04"
   ]
  },
  {
   "cell_type": "markdown",
   "metadata": {},
   "source": [
    "---"
   ]
  },
  {
   "cell_type": "markdown",
   "metadata": {},
   "source": [
    "### Instructions"
   ]
  },
  {
   "cell_type": "markdown",
   "metadata": {},
   "source": [
    "Create or find small dataset of images, using an online data source such as Kaggle. At the very least, your dataset should contain no fewer than 10 images.\n",
    "\n",
    "Write a Python script which does the following:\n",
    "- For each image, find the width, height, and number of channels\n",
    "- For each image, split image into four equal-sized quadrants (i.e. top-left, top-right, bottom-left, bottom-right)\n",
    "- Save each of the split images in JPG format\n",
    "- Create and save a file containing the filename, width, height for all of the new images.\n",
    "\n",
    "__General instructions__\n",
    "- For this exercise, you can upload either a standalone script OR a Jupyter Notebook\n",
    "- Save your script as basic_image_processing.py OR basic_image_processing.ipynb\n",
    "- If you have external dependencies, you must include a requirements.txt\n",
    "- You can either upload the script here or push to GitHub and include a link - or both!\n",
    "- Your code should be clearly documented in a way that allows others to easily follow the structure of your script.\n",
    "- Similarly, remember to use descriptive variable names! A name like width is more readable than w.\n",
    "- The filenames of the split images should clearly relate to the original image.\n",
    "\n",
    "__Purpose__\n",
    "\n",
    "This assignment is designed to test that you have a understanding of:\n",
    "1. how to structure, document, and share a Python script;\n",
    "2. how to effectively make use of basic functions in cv2;\n",
    "3. how to read, write, and process images files."
   ]
  },
  {
   "cell_type": "markdown",
   "metadata": {},
   "source": [
    "---"
   ]
  },
  {
   "cell_type": "markdown",
   "metadata": {},
   "source": [
    "### Dataset"
   ]
  },
  {
   "cell_type": "markdown",
   "metadata": {},
   "source": [
    "- Dataset from Kaggle with images of emojis (https://www.kaggle.com/victorhz/emoticon)\n",
    "- Dataset is stored in /data/emojis"
   ]
  },
  {
   "cell_type": "markdown",
   "metadata": {},
   "source": [
    "### Load Dependencies"
   ]
  },
  {
   "cell_type": "code",
   "execution_count": 1,
   "metadata": {},
   "outputs": [],
   "source": [
    "# import packages and dependencies from the utils\n",
    "import os\n",
    "import cv2\n",
    "import glob\n",
    "import numpy as np\n",
    "import pandas as pd\n",
    "\n",
    "import sys\n",
    "sys.path.append(os.path.join(\"..\"))\n",
    "\n",
    "from utils.imutils import jimshow"
   ]
  },
  {
   "cell_type": "markdown",
   "metadata": {},
   "source": [
    "### Define path to images and empty objects"
   ]
  },
  {
   "cell_type": "code",
   "execution_count": 5,
   "metadata": {},
   "outputs": [],
   "source": [
    "# define directory of images to be analysed (I added the emojis folder in the data directory)\n",
    "image_directory = os.path.join(\"..\", \"data\", \"emojis\")"
   ]
  },
  {
   "cell_type": "code",
   "execution_count": 6,
   "metadata": {},
   "outputs": [],
   "source": [
    "# define and create directory for split images\n",
    "split_image_directory = os.path.join(image_directory, \"split_emojis\")\n",
    "if not os.path.exists(split_image_directory): # if it does not exist already\n",
    "    os.makedirs(split_image_directory) # create the directory"
   ]
  },
  {
   "cell_type": "code",
   "execution_count": 7,
   "metadata": {},
   "outputs": [],
   "source": [
    "# define empty dataframe to save split images info, while already defining the column names\n",
    "df_split_image_info = pd.DataFrame(columns=[\"filename\", \"height\", \"width\"])"
   ]
  },
  {
   "cell_type": "markdown",
   "metadata": {},
   "source": [
    "### Function to split images, save them and save their width and height to a dataframe"
   ]
  },
  {
   "cell_type": "code",
   "execution_count": 8,
   "metadata": {},
   "outputs": [],
   "source": [
    "# function to split image based on input, define path to save the image and save it\n",
    "# input: image_part is e.g. top-right, y_start, y_end,.. are used for indexing to split the image\n",
    "def split_save_image(image_part, y_start, y_end, x_start, x_end):\n",
    "    \n",
    "    # split image, get info and define name based on original image\n",
    "    # indexing to get the specific part of the image\n",
    "    split_image = cv_image[y_start:y_end, x_start:x_end]\n",
    "    # get height ad width info \n",
    "    split_image_height, split_image_width = split_image.shape[0], split_image.shape[1]\n",
    "    # create name of the new image: name of full image (while removing the last 4 characters, .png) + name of image part + .jpg \n",
    "    split_image_name = image_name[:-4] + \"_\" + image_part + \".jpg\" # create name from \n",
    "    \n",
    "    # save image in directory\n",
    "    # define path\n",
    "    split_image_path = os.path.join(split_image_directory, split_image_name)\n",
    "    # write image\n",
    "    cv2.imwrite(split_image_path, split_image)\n",
    "    \n",
    "    # save info of height and width to df\n",
    "    global df_split_image_info \n",
    "    # append data frame defined above\n",
    "    df_split_image_info = df_split_image_info.append(\n",
    "        {\"filename\": split_image_name, \"height\": split_image_height, \"width\": split_image_width}, \n",
    "        ignore_index = True)"
   ]
  },
  {
   "cell_type": "markdown",
   "metadata": {},
   "source": [
    "### Loop to find width, height, number of channels of each full image and apply the split_save_image function"
   ]
  },
  {
   "cell_type": "code",
   "execution_count": 9,
   "metadata": {},
   "outputs": [
    {
     "name": "stdout",
     "output_type": "stream",
     "text": [
      "name: flushed face.png, heigth: 72, width: 72, n_channels: 3\n",
      "name: yawning face.png, heigth: 72, width: 72, n_channels: 3\n",
      "name: anguished face.png, heigth: 72, width: 72, n_channels: 3\n",
      "name: beaming face with smiling eyes.png, heigth: 72, width: 72, n_channels: 3\n",
      "name: disappointed face.png, heigth: 72, width: 72, n_channels: 3\n",
      "name: thinking face.png, heigth: 72, width: 72, n_channels: 3\n",
      "name: grinning face.png, heigth: 72, width: 72, n_channels: 3\n",
      "name: exploding head.png, heigth: 72, width: 72, n_channels: 3\n",
      "name: slightly frowning face.png, heigth: 72, width: 72, n_channels: 3\n",
      "name: pleading face.png, heigth: 72, width: 72, n_channels: 3\n",
      "name: cowboy hat face.png, heigth: 72, width: 72, n_channels: 3\n",
      "name: hugging face.png, heigth: 72, width: 72, n_channels: 3\n",
      "name: grimacing face.png, heigth: 72, width: 72, n_channels: 3\n",
      "name: smiling face.png, heigth: 72, width: 72, n_channels: 3\n",
      "name: grinning face with smiling eyes.png, heigth: 72, width: 72, n_channels: 3\n",
      "name: cold face.png, heigth: 72, width: 72, n_channels: 3\n",
      "name: confounded face.png, heigth: 72, width: 72, n_channels: 3\n",
      "name: winking face.png, heigth: 72, width: 72, n_channels: 3\n",
      "name: dizzy face.png, heigth: 72, width: 72, n_channels: 3\n",
      "name: smiling face with heart-eyes.png, heigth: 72, width: 72, n_channels: 3\n",
      "name: pouting face.png, heigth: 72, width: 72, n_channels: 3\n",
      "name: sleeping face.png, heigth: 72, width: 72, n_channels: 3\n",
      "name: crying face.png, heigth: 72, width: 72, n_channels: 3\n",
      "name: neutral face.png, heigth: 72, width: 72, n_channels: 3\n",
      "name: slightly smiling face.png, heigth: 72, width: 72, n_channels: 3\n",
      "name: star-struck.png, heigth: 72, width: 72, n_channels: 3\n",
      "name: worried face.png, heigth: 72, width: 72, n_channels: 3\n",
      "name: smiling face with halo.png, heigth: 72, width: 72, n_channels: 3\n",
      "name: face with open mouth.png, heigth: 72, width: 72, n_channels: 3\n",
      "name: loudly crying face.png, heigth: 72, width: 72, n_channels: 3\n",
      "name: frowning face.png, heigth: 72, width: 72, n_channels: 3\n",
      "name: squinting face with tongue.png, heigth: 72, width: 72, n_channels: 3\n",
      "name: face with tongue.png, heigth: 72, width: 72, n_channels: 3\n",
      "name: smiling face with sunglasses.png, heigth: 72, width: 72, n_channels: 3\n",
      "name: face with hand over mouth.png, heigth: 72, width: 72, n_channels: 3\n",
      "name: face with monocle.png, heigth: 72, width: 72, n_channels: 3\n",
      "name: face without mouth.png, heigth: 72, width: 72, n_channels: 3\n",
      "name: kissing face with closed eyes.png, heigth: 72, width: 72, n_channels: 3\n",
      "name: smirking face.png, heigth: 72, width: 72, n_channels: 3\n",
      "name: frowning face with open mouth.png, heigth: 72, width: 72, n_channels: 3\n",
      "name: rolling on the floor laughing.png, heigth: 72, width: 72, n_channels: 3\n",
      "name: face screaming in fear.png, heigth: 72, width: 72, n_channels: 3\n",
      "name: face with head-bandage.png, heigth: 72, width: 72, n_channels: 3\n",
      "name: face with raised eyebrow.png, heigth: 72, width: 72, n_channels: 3\n",
      "name: winking face with tongue.png, heigth: 72, width: 72, n_channels: 3\n",
      "name: face vomiting.png, heigth: 72, width: 72, n_channels: 3\n",
      "name: downcast face with sweat.png, heigth: 72, width: 72, n_channels: 3\n",
      "name: anxious face with sweat.png, heigth: 72, width: 72, n_channels: 3\n",
      "name: sneezing face.png, heigth: 72, width: 72, n_channels: 3\n",
      "name: astonished face.png, heigth: 72, width: 72, n_channels: 3\n",
      "name: hot face.png, heigth: 72, width: 72, n_channels: 3\n",
      "name: tired face.png, heigth: 72, width: 72, n_channels: 3\n",
      "name: confused face.png, heigth: 72, width: 72, n_channels: 3\n",
      "name: nauseated face.png, heigth: 72, width: 72, n_channels: 3\n",
      "name: sad but relieved face.png, heigth: 72, width: 72, n_channels: 3\n",
      "name: grinning face with sweat.png, heigth: 72, width: 72, n_channels: 3\n",
      "name: face with thermometer.png, heigth: 72, width: 72, n_channels: 3\n",
      "name: face blowing a kiss.png, heigth: 72, width: 72, n_channels: 3\n",
      "name: face savoring food.png, heigth: 72, width: 72, n_channels: 3\n",
      "name: grinning squinting face.png, heigth: 72, width: 72, n_channels: 3\n",
      "name: smiling face with hearts.png, heigth: 72, width: 72, n_channels: 3\n",
      "name: hushed face.png, heigth: 72, width: 72, n_channels: 3\n",
      "name: nerd face.png, heigth: 72, width: 72, n_channels: 3\n",
      "name: partying face.png, heigth: 72, width: 72, n_channels: 3\n",
      "name: persevering face.png, heigth: 72, width: 72, n_channels: 3\n",
      "name: smiling face with smiling eyes.png, heigth: 72, width: 72, n_channels: 3\n",
      "name: shushing face.png, heigth: 72, width: 72, n_channels: 3\n",
      "name: money-mouth face.png, heigth: 72, width: 72, n_channels: 3\n",
      "name: face with symbols on mouth.png, heigth: 72, width: 72, n_channels: 3\n",
      "name: expressionless face.png, heigth: 72, width: 72, n_channels: 3\n",
      "name: relieved face.png, heigth: 72, width: 72, n_channels: 3\n",
      "name: unamused face.png, heigth: 72, width: 72, n_channels: 3\n",
      "name: face with medical mask.png, heigth: 72, width: 72, n_channels: 3\n",
      "name: woozy face.png, heigth: 72, width: 72, n_channels: 3\n",
      "name: lying face.png, heigth: 72, width: 72, n_channels: 3\n",
      "name: face with tears of joy.png, heigth: 72, width: 72, n_channels: 3\n",
      "name: grinning face with big eyes.png, heigth: 72, width: 72, n_channels: 3\n",
      "name: weary face.png, heigth: 72, width: 72, n_channels: 3\n",
      "name: sleepy face.png, heigth: 72, width: 72, n_channels: 3\n",
      "name: face with rolling eyes.png, heigth: 72, width: 72, n_channels: 3\n",
      "name: upside-down face.png, heigth: 72, width: 72, n_channels: 3\n",
      "name: kissing face.png, heigth: 72, width: 72, n_channels: 3\n",
      "name: drooling face.png, heigth: 72, width: 72, n_channels: 3\n",
      "name: fearful face.png, heigth: 72, width: 72, n_channels: 3\n",
      "name: angry face.png, heigth: 72, width: 72, n_channels: 3\n",
      "name: zipper-mouth face.png, heigth: 72, width: 72, n_channels: 3\n",
      "name: zany face.png, heigth: 72, width: 72, n_channels: 3\n",
      "name: face with steam from nose.png, heigth: 72, width: 72, n_channels: 3\n",
      "name: kissing face with smiling eyes.png, heigth: 72, width: 72, n_channels: 3\n",
      "name: pensive face.png, heigth: 72, width: 72, n_channels: 3\n"
     ]
    }
   ],
   "source": [
    "with os.scandir(image_directory) as images:\n",
    "    for image in images: # for each image in the directory\n",
    "        if image.is_file(): # if it is a file\n",
    "            \n",
    "            # save name and path of image \n",
    "            image_name, image_path = image.name, image.path \n",
    "            # read image\n",
    "            cv_image = cv2.imread(image.path) \n",
    "            \n",
    "            # get height, width and n_channels info of image\n",
    "            height, width, n_channels = cv_image.shape[0:3] # find height, width, n_channels info\n",
    "            print(f\"name: {image_name}, heigth: {height}, width: {width}, n_channels: {n_channels}\")\n",
    "            \n",
    "            # split it info 4 parts \n",
    "            # get the middle on x and y axis, to split it equally (used for indexing)\n",
    "            y_center = int(height/2) # middle on y-axis (height)\n",
    "            x_center = int(width/2) # middle on x-axis (width)\n",
    "            # apply split_save function, using the values\n",
    "            split_save_image(\"top_left\", 0, y_center, 0, x_center)\n",
    "            split_save_image(\"top_right\", 0, y_center, x_center, width)\n",
    "            split_save_image(\"bottom_left\", y_center, height, 0, x_center)\n",
    "            split_save_image(\"bottom_right\", y_center, height, x_center, width)"
   ]
  },
  {
   "cell_type": "code",
   "execution_count": 11,
   "metadata": {},
   "outputs": [
    {
     "data": {
      "text/html": [
       "<div>\n",
       "<style scoped>\n",
       "    .dataframe tbody tr th:only-of-type {\n",
       "        vertical-align: middle;\n",
       "    }\n",
       "\n",
       "    .dataframe tbody tr th {\n",
       "        vertical-align: top;\n",
       "    }\n",
       "\n",
       "    .dataframe thead th {\n",
       "        text-align: right;\n",
       "    }\n",
       "</style>\n",
       "<table border=\"1\" class=\"dataframe\">\n",
       "  <thead>\n",
       "    <tr style=\"text-align: right;\">\n",
       "      <th></th>\n",
       "      <th>filename</th>\n",
       "      <th>height</th>\n",
       "      <th>width</th>\n",
       "    </tr>\n",
       "  </thead>\n",
       "  <tbody>\n",
       "    <tr>\n",
       "      <th>0</th>\n",
       "      <td>flushed face_top_left.jpg</td>\n",
       "      <td>36</td>\n",
       "      <td>36</td>\n",
       "    </tr>\n",
       "    <tr>\n",
       "      <th>1</th>\n",
       "      <td>flushed face_top_right.jpg</td>\n",
       "      <td>36</td>\n",
       "      <td>36</td>\n",
       "    </tr>\n",
       "    <tr>\n",
       "      <th>2</th>\n",
       "      <td>flushed face_bottom_left.jpg</td>\n",
       "      <td>36</td>\n",
       "      <td>36</td>\n",
       "    </tr>\n",
       "    <tr>\n",
       "      <th>3</th>\n",
       "      <td>flushed face_bottom_right.jpg</td>\n",
       "      <td>36</td>\n",
       "      <td>36</td>\n",
       "    </tr>\n",
       "    <tr>\n",
       "      <th>4</th>\n",
       "      <td>yawning face_top_left.jpg</td>\n",
       "      <td>36</td>\n",
       "      <td>36</td>\n",
       "    </tr>\n",
       "    <tr>\n",
       "      <th>...</th>\n",
       "      <td>...</td>\n",
       "      <td>...</td>\n",
       "      <td>...</td>\n",
       "    </tr>\n",
       "    <tr>\n",
       "      <th>355</th>\n",
       "      <td>kissing face with smiling eyes_bottom_right.jpg</td>\n",
       "      <td>36</td>\n",
       "      <td>36</td>\n",
       "    </tr>\n",
       "    <tr>\n",
       "      <th>356</th>\n",
       "      <td>pensive face_top_left.jpg</td>\n",
       "      <td>36</td>\n",
       "      <td>36</td>\n",
       "    </tr>\n",
       "    <tr>\n",
       "      <th>357</th>\n",
       "      <td>pensive face_top_right.jpg</td>\n",
       "      <td>36</td>\n",
       "      <td>36</td>\n",
       "    </tr>\n",
       "    <tr>\n",
       "      <th>358</th>\n",
       "      <td>pensive face_bottom_left.jpg</td>\n",
       "      <td>36</td>\n",
       "      <td>36</td>\n",
       "    </tr>\n",
       "    <tr>\n",
       "      <th>359</th>\n",
       "      <td>pensive face_bottom_right.jpg</td>\n",
       "      <td>36</td>\n",
       "      <td>36</td>\n",
       "    </tr>\n",
       "  </tbody>\n",
       "</table>\n",
       "<p>360 rows × 3 columns</p>\n",
       "</div>"
      ],
      "text/plain": [
       "                                            filename height width\n",
       "0                          flushed face_top_left.jpg     36    36\n",
       "1                         flushed face_top_right.jpg     36    36\n",
       "2                       flushed face_bottom_left.jpg     36    36\n",
       "3                      flushed face_bottom_right.jpg     36    36\n",
       "4                          yawning face_top_left.jpg     36    36\n",
       "..                                               ...    ...   ...\n",
       "355  kissing face with smiling eyes_bottom_right.jpg     36    36\n",
       "356                        pensive face_top_left.jpg     36    36\n",
       "357                       pensive face_top_right.jpg     36    36\n",
       "358                     pensive face_bottom_left.jpg     36    36\n",
       "359                    pensive face_bottom_right.jpg     36    36\n",
       "\n",
       "[360 rows x 3 columns]"
      ]
     },
     "execution_count": 11,
     "metadata": {},
     "output_type": "execute_result"
    }
   ],
   "source": [
    "# check dataframe\n",
    "df_split_image_info"
   ]
  },
  {
   "cell_type": "code",
   "execution_count": 12,
   "metadata": {},
   "outputs": [],
   "source": [
    "# save dataframe to csv\n",
    "df_split_image_info.to_csv(\"df_split_image_info.csv\")"
   ]
  },
  {
   "cell_type": "code",
   "execution_count": null,
   "metadata": {},
   "outputs": [],
   "source": []
  }
 ],
 "metadata": {
  "kernelspec": {
   "display_name": "Python 3",
   "language": "python",
   "name": "python3"
  },
  "language_info": {
   "codemirror_mode": {
    "name": "ipython",
    "version": 3
   },
   "file_extension": ".py",
   "mimetype": "text/x-python",
   "name": "python",
   "nbconvert_exporter": "python",
   "pygments_lexer": "ipython3",
   "version": "3.6.9"
  }
 },
 "nbformat": 4,
 "nbformat_minor": 4
}
